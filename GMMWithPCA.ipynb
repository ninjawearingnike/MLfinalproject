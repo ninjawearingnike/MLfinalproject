{
 "cells": [
  {
   "cell_type": "markdown",
   "metadata": {},
   "source": [
    "# Analysis of OKCupid Data\n",
    "\n",
    "By Kelvin Yu and Victor Hua"
   ]
  },
  {
   "cell_type": "code",
   "execution_count": 1,
   "metadata": {},
   "outputs": [],
   "source": [
    "import numpy as np\n",
    "import pandas as pd\n",
    "import matplotlib.pyplot as plt\n",
    "%matplotlib inline\n",
    "\n",
    "# increase the width of the pandas dataframe to allow scrolling through all columns\n",
    "\n",
    "pd.options.display.max_columns = 100"
   ]
  },
  {
   "cell_type": "code",
   "execution_count": 2,
   "metadata": {},
   "outputs": [],
   "source": [
    "train = pd.read_csv(r\"C:\\Users\\Kelvin Yu\\Documents\\Sophomore Year\\COS 424\\Final Project\\data\\train\\train.csv\")\n",
    "test = pd.read_csv(r\"C:\\Users\\Kelvin Yu\\Documents\\Sophomore Year\\COS 424\\Final Project\\data\\test\\test.csv\")\n",
    "train = pd.read_csv(r\"C:\\Users\\Kelvin Yu\\Documents\\Sophomore Year\\COS 424\\Final Project\\data\\train\\train.csv\")\n",
    "year3 = pd.read_csv(r\"C:\\Users\\Kelvin Yu\\Documents\\Sophomore Year\\COS 424\\Final Project\\data\\year3.csv\")\n",
    "year2 = pd.read_csv(r\"C:\\Users\\Kelvin Yu\\Documents\\Sophomore Year\\COS 424\\Final Project\\data\\year2.csv\")\n",
    "year1 = pd.read_csv(r\"C:\\Users\\Kelvin Yu\\Documents\\Sophomore Year\\COS 424\\Final Project\\data\\year1.csv\")\n",
    "year0 = pd.read_csv(r\"C:\\Users\\Kelvin Yu\\Documents\\Sophomore Year\\COS 424\\Final Project\\data\\year0.csv\")\n",
    "china = pd.read_csv(r\"C:\\Users\\Kelvin Yu\\Documents\\Sophomore Year\\COS 424\\Final Project\\data\\china.csv\")"
   ]
  },
  {
   "cell_type": "markdown",
   "metadata": {},
   "source": [
    "Why are there -1s in income? They indicate \"rather not say\". Let's remove it for now"
   ]
  },
  {
   "cell_type": "code",
   "execution_count": 3,
   "metadata": {},
   "outputs": [],
   "source": [
    "train = train.drop(['COMPANY', 'NOTES'], axis = 1)\n",
    "test = test.drop(['COMPANY', 'NOTES'], axis = 1)\n",
    "year3 = year3.drop(['COMPANY', 'NOTES', 'Year_3.0'], axis = 1)\n",
    "year2 = year2.drop(['COMPANY', 'NOTES', 'Year_2.0'], axis = 1)\n",
    "year1 = year1.drop(['COMPANY', 'NOTES', 'Year_1.0'], axis = 1)\n",
    "year0 = year0.drop(['COMPANY', 'NOTES', 'Year_0.0'], axis = 1)\n",
    "china = china.drop(['COMPANY', 'NOTES'], axis = 1)"
   ]
  },
  {
   "cell_type": "code",
   "execution_count": 4,
   "metadata": {},
   "outputs": [],
   "source": [
    "from sklearn.decomposition import PCA\n",
    "\n",
    "\n",
    "pca = PCA(n_components = 4)\n",
    "pca_year3 = PCA(n_components = 4)\n",
    "pca_year2 = PCA(n_components = 4)\n",
    "pca_year1 = PCA(n_components = 4)\n",
    "pca_year0 = PCA(n_components = 4)\n",
    "pca_china = PCA(n_components = 4)"
   ]
  },
  {
   "cell_type": "code",
   "execution_count": 5,
   "metadata": {},
   "outputs": [],
   "source": [
    "transformed_data = pca.fit(train.values) \n",
    "principal_axes = pca.transform(train.values) # applies dimensionality reduction\n",
    "\n",
    "transformed_test = pca.fit(test.values) \n",
    "principal_axes_test = pca.transform(test.values)\n",
    "\n",
    "transformed_year3 = pca_year3.fit(year3.values) \n",
    "principal_axes_year3 = pca_year3.transform(year3.values)\n",
    "\n",
    "transformed_year2 = pca_year2.fit(year2.values) \n",
    "principal_axes_year2 = pca_year2.transform(year2.values)\n",
    "\n",
    "transformed_year1 = pca_year1.fit(year1.values) \n",
    "principal_axes_year1 = pca_year1.transform(year1.values)\n",
    "\n",
    "transformed_year0 = pca_year0.fit(year0.values) \n",
    "principal_axes_year0 = pca_year0.transform(year0.values)\n",
    "\n",
    "transformed_china = pca_china.fit(china.values) \n",
    "principal_axes_china = pca_china.transform(china.values)"
   ]
  },
  {
   "cell_type": "code",
   "execution_count": 6,
   "metadata": {},
   "outputs": [
    {
     "data": {
      "text/plain": [
       "array([0.28993784, 0.25774762, 0.23423854, 0.21364805])"
      ]
     },
     "execution_count": 6,
     "metadata": {},
     "output_type": "execute_result"
    }
   ],
   "source": [
    "transformed_year3.explained_variance_"
   ]
  },
  {
   "cell_type": "markdown",
   "metadata": {},
   "source": [
    "# Gaussian Mixture Model"
   ]
  },
  {
   "cell_type": "code",
   "execution_count": 7,
   "metadata": {},
   "outputs": [],
   "source": [
    "from sklearn.mixture import GaussianMixture\n",
    "\n",
    "gmm = GaussianMixture(n_components = 8).fit(principal_axes)\n",
    "labels = gmm.predict(principal_axes)\n",
    "\n",
    "gmm_test = GaussianMixture(n_components = 7).fit(principal_axes_test)\n",
    "labels_test = gmm.predict(principal_axes_test)\n",
    "\n",
    "gmm_year3 = GaussianMixture(n_components = 4).fit(principal_axes_year3)\n",
    "labels_year3 = gmm_year3.predict(principal_axes_year3)\n",
    "\n",
    "gmm_year2 = GaussianMixture(n_components = 6).fit(principal_axes_year2)\n",
    "labels_year2 = gmm_year2.predict(principal_axes_year2)\n",
    "\n",
    "gmm_year1 = GaussianMixture(n_components = 2).fit(principal_axes_year1)\n",
    "labels_year1 = gmm_year1.predict(principal_axes_year1)\n",
    "\n",
    "gmm_year0 = GaussianMixture(n_components = 4).fit(principal_axes_year0)\n",
    "labels_year0 = gmm_year0.predict(principal_axes_year0)\n",
    "\n",
    "gmm_china = GaussianMixture(n_components = 3).fit(principal_axes_china)\n",
    "labels_china = gmm_china.predict(principal_axes_china)"
   ]
  },
  {
   "cell_type": "code",
   "execution_count": 8,
   "metadata": {},
   "outputs": [
    {
     "data": {
      "image/png": "[encoded data removed]",
      "text/plain": [
       "<Figure size 432x288 with 1 Axes>"
      ]
     },
     "metadata": {
      "needs_background": "light"
     },
     "output_type": "display_data"
    }
   ],
   "source": [
    "plt.scatter(principal_axes[:, 0], principal_axes[:, 1], c=labels, s=40, cmap='viridis');"
   ]
  },
  {
   "cell_type": "code",
   "execution_count": 9,
   "metadata": {},
   "outputs": [],
   "source": [
    "clusters = pca.inverse_transform(gmm.means_)\n",
    "clusters_test = pca.inverse_transform(gmm_test.means_)\n",
    "clusters_year0 = pca_year0.inverse_transform(gmm_year0.means_)\n",
    "clusters_year1 = pca_year1.inverse_transform(gmm_year1.means_)\n",
    "clusters_year2 = pca_year2.inverse_transform(gmm_year2.means_)\n",
    "clusters_year3 = pca_year3.inverse_transform(gmm_year3.means_)\n",
    "clusters_china = pca_china.inverse_transform(gmm_china.means_)"
   ]
  },
  {
   "cell_type": "code",
   "execution_count": 10,
   "metadata": {},
   "outputs": [
    {
     "data": {
      "text/html": [
       "<div>\n",
       "<style scoped>\n",
       "    .dataframe tbody tr th:only-of-type {\n",
       "        vertical-align: middle;\n",
       "    }\n",
       "\n",
       "    .dataframe tbody tr th {\n",
       "        vertical-align: top;\n",
       "    }\n",
       "\n",
       "    .dataframe thead th {\n",
       "        text-align: right;\n",
       "    }\n",
       "</style>\n",
       "<table border=\"1\" class=\"dataframe\">\n",
       "  <thead>\n",
       "    <tr style=\"text-align: right;\">\n",
       "      <th></th>\n",
       "      <th>Feature</th>\n",
       "      <th>Cluster Proportion</th>\n",
       "    </tr>\n",
       "  </thead>\n",
       "  <tbody>\n",
       "    <tr>\n",
       "      <th>10365</th>\n",
       "      <td>Year_3.0</td>\n",
       "      <td>0.836669</td>\n",
       "    </tr>\n",
       "    <tr>\n",
       "      <th>66</th>\n",
       "      <td>Round_A</td>\n",
       "      <td>0.368022</td>\n",
       "    </tr>\n",
       "    <tr>\n",
       "      <th>10368</th>\n",
       "      <td>Month_3.0</td>\n",
       "      <td>0.272518</td>\n",
       "    </tr>\n",
       "    <tr>\n",
       "      <th>10366</th>\n",
       "      <td>Month_1.0</td>\n",
       "      <td>0.270960</td>\n",
       "    </tr>\n",
       "    <tr>\n",
       "      <th>182</th>\n",
       "      <td>Round_Seed</td>\n",
       "      <td>0.260787</td>\n",
       "    </tr>\n",
       "    <tr>\n",
       "      <th>10367</th>\n",
       "      <td>Month_2.0</td>\n",
       "      <td>0.247119</td>\n",
       "    </tr>\n",
       "    <tr>\n",
       "      <th>10369</th>\n",
       "      <td>Month_4.0</td>\n",
       "      <td>0.191229</td>\n",
       "    </tr>\n",
       "    <tr>\n",
       "      <th>1501</th>\n",
       "      <td>Region_ NY</td>\n",
       "      <td>0.182154</td>\n",
       "    </tr>\n",
       "    <tr>\n",
       "      <th>957</th>\n",
       "      <td>City_New York</td>\n",
       "      <td>0.179889</td>\n",
       "    </tr>\n",
       "    <tr>\n",
       "      <th>32</th>\n",
       "      <td>Category_fintech</td>\n",
       "      <td>0.176910</td>\n",
       "    </tr>\n",
       "  </tbody>\n",
       "</table>\n",
       "</div>"
      ],
      "text/plain": [
       "                Feature  Cluster Proportion\n",
       "10365          Year_3.0            0.836669\n",
       "66              Round_A            0.368022\n",
       "10368         Month_3.0            0.272518\n",
       "10366         Month_1.0            0.270960\n",
       "182          Round_Seed            0.260787\n",
       "10367         Month_2.0            0.247119\n",
       "10369         Month_4.0            0.191229\n",
       "1501         Region_ NY            0.182154\n",
       "957       City_New York            0.179889\n",
       "32     Category_fintech            0.176910"
      ]
     },
     "execution_count": 10,
     "metadata": {},
     "output_type": "execute_result"
    }
   ],
   "source": [
    "## top features for first cluster\n",
    "\n",
    "means1 = clusters[2, :]\n",
    "\n",
    "means1_indicies = np.where(means1 > np.percentile(means1, 0))[0]\n",
    "\n",
    "#lu1_indices = np.array(sorted(lu1_indices, key= lambda x: lu1[x], reverse=True))\n",
    "\n",
    "\n",
    "top_cluster1_df = pd.DataFrame({'Feature': train.columns.values[means1_indicies],\n",
    "                         'Cluster Proportion': means1[means1_indicies]})\n",
    "\n",
    "top_cluster1_df.sort_values('Cluster Proportion', inplace=True, ascending=False)\n",
    "\n",
    "top_cluster1_df.head(n=10)"
   ]
  },
  {
   "cell_type": "code",
   "execution_count": 11,
   "metadata": {},
   "outputs": [],
   "source": [
    "## means1"
   ]
  },
  {
   "cell_type": "code",
   "execution_count": 12,
   "metadata": {},
   "outputs": [
    {
     "name": "stdout",
     "output_type": "stream",
     "text": [
      "Log-likelihood:\n",
      "0.07142885632347011\n",
      "Average log-likelihood per data point:\n",
      "7.641084330709254e-06\n"
     ]
    }
   ],
   "source": [
    "print(\"Log-likelihood:\")\n",
    "print(gmm.score(principal_axes))\n",
    "\n",
    "print(\"Average log-likelihood per data point:\") # makes more sense to compare this given different data sets\n",
    "print(gmm.score(principal_axes)/principal_axes.shape[0])"
   ]
  },
  {
   "cell_type": "code",
   "execution_count": 13,
   "metadata": {},
   "outputs": [
    {
     "name": "stdout",
     "output_type": "stream",
     "text": [
      "Test Log-likelihood:\n",
      "-2.7190683867662178\n",
      "Average log-likelihood per data point:\n",
      "-0.001163984754608826\n"
     ]
    }
   ],
   "source": [
    "print(\"Test Log-likelihood:\")\n",
    "print(gmm.score(principal_axes_test))\n",
    "\n",
    "print(\"Average log-likelihood per data point:\") # makes more sense to compare this given different data sets\n",
    "print(gmm.score(principal_axes_test)/principal_axes_test.shape[0])"
   ]
  },
  {
   "cell_type": "code",
   "execution_count": null,
   "metadata": {},
   "outputs": [],
   "source": []
  }
 ],
 "metadata": {
  "kernelspec": {
   "display_name": "Python 3",
   "language": "python",
   "name": "python3"
  },
  "language_info": {
   "codemirror_mode": {
    "name": "ipython",
    "version": 3
   },
   "file_extension": ".py",
   "mimetype": "text/x-python",
   "name": "python",
   "nbconvert_exporter": "python",
   "pygments_lexer": "ipython3",
   "version": "3.7.3"
  }
 },
 "nbformat": 4,
 "nbformat_minor": 2
}
