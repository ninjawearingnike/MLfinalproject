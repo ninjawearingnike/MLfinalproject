{
 "cells": [
  {
   "cell_type": "code",
   "execution_count": 1,
   "metadata": {},
   "outputs": [],
   "source": [
    "import numpy as np\n",
    "import pandas as pd\n",
    "\n",
    "data = pd.read_csv(r'C:\\Users\\Kelvin Yu\\Documents\\Sophomore Year\\COS 424\\Final Project\\data\\new_data.csv', low_memory = False)"
   ]
  },
  {
   "cell_type": "code",
   "execution_count": 2,
   "metadata": {},
   "outputs": [],
   "source": [
    "# average funding amounts per round\n",
    "# print(\"Seed: \", data[data[\"Round\"] == 'Seed'].mean())\n",
    "# print(\"Angel: \", data[data[\"Round\"] == 'Angel'].mean())\n",
    "# print(\"A: \", data[data[\"Round\"] == 'A'].mean())\n",
    "# print(\"B: \", data[data[\"Round\"] == 'B'].mean())\n",
    "# print(\"C: \", data[data[\"Round\"] == 'C'].mean())\n",
    "# print(\"D: \", data[data[\"Round\"] == 'D'].mean())\n",
    "# print(\"E: \", data[data[\"Round\"] == 'E'].mean())\n",
    "# print(\"F: \", data[data[\"Round\"] == 'F'].mean())\n",
    "# print(\"G: \", data[data[\"Round\"] == 'G'].mean())\n",
    "# print(\"H: \", data[data[\"Round\"] == 'H'].mean())\n",
    "# print(\"I: \", data[data[\"Round\"] == 'I'].mean())\n",
    "# print(\"J: \", data[data[\"Round\"] == 'J'].mean())\n",
    "# print(\"K: \", data[data[\"Round\"] == 'K'].mean())\n",
    "# print(\"Undisclosed: \", data[data[\"Round\"] == 'Undisclosed'].mean())"
   ]
  },
  {
   "cell_type": "code",
   "execution_count": 3,
   "metadata": {},
   "outputs": [],
   "source": [
    "# Let's figure out how many folks of each type there are\n",
    "\n",
    "# data[data[\"Round\"] == 'Angel']"
   ]
  },
  {
   "cell_type": "code",
   "execution_count": 4,
   "metadata": {},
   "outputs": [],
   "source": [
    "# estimate funding round for unknown rounds\n",
    "\n",
    "# iterate through each sample\n",
    "for index, row in data.iterrows():\n",
    "    # if round is U\n",
    "    if (row['Round'] == 'U'):\n",
    "        \n",
    "        # check funding amount, depending on #, rename the round\n",
    "        if (row['AMOUNT'] < 3387879):\n",
    "            data.at[index, 'Round'] = 'Seed'\n",
    "            \n",
    "        elif (row['AMOUNT'] < 15781030):\n",
    "            data.at[index, 'Round'] = 'Angel'\n",
    "            \n",
    "        elif (row['AMOUNT'] < 16012030):\n",
    "            data.at[index, 'Round'] = 'A'\n",
    "                \n",
    "        elif (row['AMOUNT'] < 31695520):\n",
    "            data.at[index, 'Round'] = 'B'\n",
    "            \n",
    "        elif (row['AMOUNT'] < 76736840):\n",
    "            data.at[index, 'Round'] = 'C'\n",
    "            \n",
    "        elif (row['AMOUNT'] < 99701210):\n",
    "            data.at[index, 'Round'] = 'D'\n",
    "            \n",
    "        elif (row['AMOUNT'] < 104475400):\n",
    "            data.at[index, 'Round'] = 'E'\n",
    "            \n",
    "        else:\n",
    "            data.at[index, 'Round'] = 'F'"
   ]
  },
  {
   "cell_type": "code",
   "execution_count": 5,
   "metadata": {},
   "outputs": [],
   "source": [
    "# if region is empty, fill with the sample's city\n",
    "for index, row in data.iterrows():\n",
    "    if (isinstance(row['Region'], float)):\n",
    "        data.at[index, 'Region'] = data.at[index, 'City']"
   ]
  },
  {
   "cell_type": "code",
   "execution_count": 6,
   "metadata": {},
   "outputs": [],
   "source": [
    "year0 = data[data['Year'] == 0]\n",
    "year1 = data[data['Year'] == 1]\n",
    "year2 = data[data['Year'] == 2]\n",
    "year3 = data[data['Year'] == 3]\n",
    "china = data[data['Region'] == 'China']"
   ]
  },
  {
   "cell_type": "code",
   "execution_count": 7,
   "metadata": {},
   "outputs": [],
   "source": [
    "# one hot encoding on categorical\n",
    "categorical_columns = ['Category', 'Round', 'City', 'Region', 'First Investor', 'Year', 'Month']\n",
    "data = pd.get_dummies(data, columns = categorical_columns)\n",
    "year0 = pd.get_dummies(year0, columns = categorical_columns)\n",
    "year1 = pd.get_dummies(year1, columns = categorical_columns)\n",
    "year2 = pd.get_dummies(year2, columns = categorical_columns)\n",
    "year3 = pd.get_dummies(year3, columns = categorical_columns)\n",
    "china = pd.get_dummies(china, columns = categorical_columns)"
   ]
  },
  {
   "cell_type": "code",
   "execution_count": 8,
   "metadata": {},
   "outputs": [
    {
     "data": {
      "text/plain": [
       "(11686, 10381)"
      ]
     },
     "execution_count": 8,
     "metadata": {},
     "output_type": "execute_result"
    }
   ],
   "source": [
    "data.shape"
   ]
  },
  {
   "cell_type": "code",
   "execution_count": 9,
   "metadata": {},
   "outputs": [],
   "source": [
    "# fill remaining NAs with 0\n",
    "data = data.fillna(0)\n",
    "year0 = year0.fillna(0)\n",
    "year1 = year1.fillna(0)\n",
    "year2 = year2.fillna(0)\n",
    "year3 = year3.fillna(0)\n",
    "china = china.fillna(0)"
   ]
  },
  {
   "cell_type": "code",
   "execution_count": 10,
   "metadata": {},
   "outputs": [],
   "source": [
    "# normalize funding amount to in between (0,1)\n",
    "# year 3\n",
    "x_min = year3['AMOUNT'].min()\n",
    "x_max = year3['AMOUNT'].max()\n",
    "\n",
    "funding = pd.Series(year3['AMOUNT'])\n",
    "\n",
    "for index, row in year3.iterrows():\n",
    "    funding.at[index] = (row['AMOUNT']-x_min)/(x_max-x_min)\n",
    "\n",
    "# year 0\n",
    "\n",
    "x_min = year0['AMOUNT'].min()\n",
    "x_max = year0['AMOUNT'].max()\n",
    "\n",
    "funding = pd.Series(year0['AMOUNT'])\n",
    "\n",
    "for index, row in year0.iterrows():\n",
    "    funding.at[index] = (row['AMOUNT']-x_min)/(x_max-x_min)\n",
    "    \n",
    "year0['AMOUNT'] = funding\n",
    "\n",
    "# year 1\n",
    "\n",
    "x_min = year1['AMOUNT'].min()\n",
    "x_max = year1['AMOUNT'].max()\n",
    "\n",
    "funding = pd.Series(year1['AMOUNT'])\n",
    "\n",
    "for index, row in year1.iterrows():\n",
    "    funding.at[index] = (row['AMOUNT']-x_min)/(x_max-x_min)\n",
    "    \n",
    "year1['AMOUNT'] = funding\n",
    "\n",
    "# year 2\n",
    "\n",
    "x_min = year2['AMOUNT'].min()\n",
    "x_max = year2['AMOUNT'].max()\n",
    "\n",
    "funding = pd.Series(year2['AMOUNT'])\n",
    "\n",
    "for index, row in year2.iterrows():\n",
    "    funding.at[index] = (row['AMOUNT']-x_min)/(x_max-x_min)\n",
    "    \n",
    "year2['AMOUNT'] = funding\n",
    "\n",
    "# china\n",
    "\n",
    "x_min = china['AMOUNT'].min()\n",
    "x_max = china['AMOUNT'].max()\n",
    "\n",
    "funding = pd.Series(china['AMOUNT'])\n",
    "\n",
    "for index, row in china.iterrows():\n",
    "    funding.at[index] = (row['AMOUNT']-x_min)/(x_max-x_min)\n",
    "    \n",
    "china['AMOUNT'] = funding\n",
    "\n",
    "# data\n",
    "\n",
    "x_min = data['AMOUNT'].min()\n",
    "x_max = data['AMOUNT'].max()\n",
    "\n",
    "funding = pd.Series(data['AMOUNT'])\n",
    "\n",
    "for index, row in data.iterrows():\n",
    "    funding.at[index] = (row['AMOUNT']-x_min)/(x_max-x_min)\n",
    "    \n",
    "data['AMOUNT'] = funding"
   ]
  },
  {
   "cell_type": "code",
   "execution_count": 11,
   "metadata": {},
   "outputs": [],
   "source": [
    "# split into train/test\n",
    "from sklearn.utils import shuffle\n",
    "\n",
    "data = shuffle(data)\n",
    "china = shuffle(china)\n",
    "\n",
    "train = data[0:9348]\n",
    "test = data[9349: 11685]"
   ]
  },
  {
   "cell_type": "code",
   "execution_count": 12,
   "metadata": {},
   "outputs": [],
   "source": [
    "year0.to_csv(r'C:\\Users\\Kelvin Yu\\Documents\\Sophomore Year\\COS 424\\Final Project\\data\\year0.csv', index=False)\n",
    "year1.to_csv(r'C:\\Users\\Kelvin Yu\\Documents\\Sophomore Year\\COS 424\\Final Project\\data\\year1.csv', index=False)\n",
    "year2.to_csv(r'C:\\Users\\Kelvin Yu\\Documents\\Sophomore Year\\COS 424\\Final Project\\data\\year2.csv', index=False)\n",
    "year3.to_csv(r'C:\\Users\\Kelvin Yu\\Documents\\Sophomore Year\\COS 424\\Final Project\\data\\year3.csv', index=False)\n",
    "china.to_csv(r'C:\\Users\\Kelvin Yu\\Documents\\Sophomore Year\\COS 424\\Final Project\\data\\china.csv', index=False)"
   ]
  },
  {
   "cell_type": "code",
   "execution_count": 13,
   "metadata": {},
   "outputs": [],
   "source": [
    "train.to_csv(r'C:\\Users\\Kelvin Yu\\Documents\\Sophomore Year\\COS 424\\Final Project\\data\\train\\train.csv', index=False)\n",
    "test.to_csv(r'C:\\Users\\Kelvin Yu\\Documents\\Sophomore Year\\COS 424\\Final Project\\data\\test\\test.csv', index=False)"
   ]
  },
  {
   "cell_type": "code",
   "execution_count": 14,
   "metadata": {},
   "outputs": [
    {
     "name": "stderr",
     "output_type": "stream",
     "text": [
      "C:\\Users\\Kelvin Yu\\Anaconda3\\lib\\site-packages\\ipykernel_launcher.py:1: FutureWarning: The signature of `Series.to_csv` was aligned to that of `DataFrame.to_csv`, and argument 'header' will change its default value from False to True: please pass an explicit value to suppress this warning.\n",
      "  \"\"\"Entry point for launching an IPython kernel.\n",
      "C:\\Users\\Kelvin Yu\\Anaconda3\\lib\\site-packages\\ipykernel_launcher.py:2: FutureWarning: The signature of `Series.to_csv` was aligned to that of `DataFrame.to_csv`, and argument 'header' will change its default value from False to True: please pass an explicit value to suppress this warning.\n",
      "  \n"
     ]
    }
   ],
   "source": [
    "train['NOTES'].to_csv(r'C:\\Users\\Kelvin Yu\\Documents\\Sophomore Year\\COS 424\\Final Project\\data\\train\\notes_train.csv')\n",
    "test['NOTES'].to_csv(r'C:\\Users\\Kelvin Yu\\Documents\\Sophomore Year\\COS 424\\Final Project\\data\\test\\notes_test.csv')"
   ]
  },
  {
   "cell_type": "code",
   "execution_count": 15,
   "metadata": {},
   "outputs": [
    {
     "name": "stderr",
     "output_type": "stream",
     "text": [
      "C:\\Users\\Kelvin Yu\\Anaconda3\\lib\\site-packages\\ipykernel_launcher.py:1: FutureWarning: The signature of `Series.to_csv` was aligned to that of `DataFrame.to_csv`, and argument 'header' will change its default value from False to True: please pass an explicit value to suppress this warning.\n",
      "  \"\"\"Entry point for launching an IPython kernel.\n",
      "C:\\Users\\Kelvin Yu\\Anaconda3\\lib\\site-packages\\ipykernel_launcher.py:2: FutureWarning: The signature of `Series.to_csv` was aligned to that of `DataFrame.to_csv`, and argument 'header' will change its default value from False to True: please pass an explicit value to suppress this warning.\n",
      "  \n"
     ]
    }
   ],
   "source": [
    "train['AMOUNT'].to_csv(r'C:\\Users\\Kelvin Yu\\Documents\\Sophomore Year\\COS 424\\Final Project\\data\\train\\label_train.csv')\n",
    "test['AMOUNT'].to_csv(r'C:\\Users\\Kelvin Yu\\Documents\\Sophomore Year\\COS 424\\Final Project\\data\\test\\label_test.csv')"
   ]
  },
  {
   "cell_type": "code",
   "execution_count": null,
   "metadata": {},
   "outputs": [],
   "source": []
  }
 ],
 "metadata": {
  "kernelspec": {
   "display_name": "Python 3",
   "language": "python",
   "name": "python3"
  },
  "language_info": {
   "codemirror_mode": {
    "name": "ipython",
    "version": 3
   },
   "file_extension": ".py",
   "mimetype": "text/x-python",
   "name": "python",
   "nbconvert_exporter": "python",
   "pygments_lexer": "ipython3",
   "version": "3.7.3"
  }
 },
 "nbformat": 4,
 "nbformat_minor": 2
}
